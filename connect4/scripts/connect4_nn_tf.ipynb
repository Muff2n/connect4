{
 "cells": [
  {
   "cell_type": "code",
   "execution_count": 1,
   "metadata": {},
   "outputs": [],
   "source": [
    "%matplotlib inline\n",
    "\n",
    "import numpy as np\n",
    "import pickle\n",
    "\n",
    "np.random.seed(0)\n",
    "from tensorflow.keras import optimizers\n",
    "\n",
    "from sklearn.model_selection import train_test_split"
   ]
  },
  {
   "cell_type": "code",
   "execution_count": 2,
   "metadata": {},
   "outputs": [],
   "source": [
    "n_epocs = 10000\n",
    "epochs_per_stats = 1\n",
    "batch_size = 2\n",
    "test_size = 0.2\n",
    "learning_rate = 0.002 * (batch_size / 1024.0)\n",
    "momentum = 0.0\n",
    "\n",
    "WORKING_DIR = '/home/richard/Downloads/nn/PSU_back/tf'"
   ]
  },
  {
   "cell_type": "code",
   "execution_count": 3,
   "metadata": {},
   "outputs": [],
   "source": [
    "import torch\n",
    "boards = torch.load('/home/richard/Downloads/connect4_boards.pth').numpy()\n",
    "values = torch.load('/home/richard/Downloads/connect4_values.pth').numpy()\n",
    "\n",
    "# Here we don't want to have the player to move channel\n",
    "boards = boards[:, 1:]\n",
    "\n",
    "board_train, board_test, value_train, value_test = train_test_split(boards, values, test_size=test_size, shuffle=True)"
   ]
  },
  {
   "cell_type": "code",
   "execution_count": 4,
   "metadata": {},
   "outputs": [],
   "source": [
    "from connect4.neural.nn_tf import Connect4Sequence\n",
    "\n",
    "# Also I think the shuffle is applied elsewhere\n",
    "train_gen = Connect4Sequence(batch_size, board_train, value_train)\n",
    "test_gen = Connect4Sequence(batch_size, board_test, value_test)"
   ]
  },
  {
   "cell_type": "code",
   "execution_count": 5,
   "metadata": {},
   "outputs": [],
   "source": [
    "from connect4.neural.nn_tf import value_net as net\n",
    "\n",
    "net.compile(\n",
    "    optimizer=optimizers.Adam(),\n",
    "    loss=['mean_squared_error'],\n",
    "    # FIXME: investigate\n",
    "    metrics=['accuracy'])"
   ]
  },
  {
   "cell_type": "code",
   "execution_count": 6,
   "metadata": {},
   "outputs": [],
   "source": [
    "# option to load previous progress\n",
    "# file_path = WORKING_DIR + '../nn9.pth'\n",
    "file_path = None\n",
    "if file_path is not None:\n",
    "    checkpoint = torch.load(file_path)\n",
    "    net.load_state_dict(checkpoint['net_state_dict'])\n",
    "    optimizer.load_state_dict(checkpoint['optimizer_state_dict'])"
   ]
  },
  {
   "cell_type": "code",
   "execution_count": null,
   "metadata": {},
   "outputs": [],
   "source": [
    "net.evaluate_generator(test_gen)"
   ]
  },
  {
   "cell_type": "code",
   "execution_count": null,
   "metadata": {},
   "outputs": [],
   "source": [
    "from connect4.neural.stats import Stats\n",
    "\n",
    "# Get an idea of how the initialisation is\n",
    "def evaluate_fit(net, test_gen, device, output_stats=False):\n",
    "    test_stats = Stats() if output_stats else None\n",
    "    with torch.set_grad_enabled(False):\n",
    "        net = net.eval()\n",
    "        for board, value in test_gen:\n",
    "            board, value = board.to(device), value.to(device)\n",
    "\n",
    "            output = net(board)\n",
    "            loss = criterion(output, value)\n",
    "            output = output.view(-1)\n",
    "#             output = torch.t(output)\n",
    "#             value = value.unsqueeze(dim=1)\n",
    "            print(output.shape, value.shape)\n",
    "            print(output, value, loss)\n",
    "\n",
    "            if output_stats:\n",
    "                output = output.cpu().numpy().flatten()\n",
    "                value = value.cpu().numpy().flatten()\n",
    "                test_stats.update(output, value, loss)\n",
    "    return test_stats\n",
    "\n",
    "test_stats = evaluate_fit(net, test_gen, device, True)\n",
    "print(\"Initial Test Stats:\\n\", test_stats)"
   ]
  },
  {
   "cell_type": "code",
   "execution_count": null,
   "metadata": {},
   "outputs": [],
   "source": [
    "%%time\n",
    "\n",
    "from laplotter import LossAccPlotter\n",
    "from visdom import Visdom\n",
    "\n",
    "viz = Visdom()\n",
    "plotter = LossAccPlotter()\n",
    "\n",
    "for epoch in range(n_epocs):\n",
    "    \n",
    "    net = net.train()\n",
    "    train_stats = Stats()\n",
    "    \n",
    "    for board, value in train_gen:\n",
    "        board, value = board.to(device), value.to(device)\n",
    "        \n",
    "        # zero the parameter gradients\n",
    "        optimizer.zero_grad()\n",
    "\n",
    "        # forward + backward + optimize\n",
    "        output = net(board)\n",
    "        loss = criterion(output, value)\n",
    "        loss.backward()\n",
    "        optimizer.step()\n",
    "        \n",
    "        if epoch % epochs_per_stats == 0:\n",
    "            output = output.cpu().view(-1).detach().numpy()\n",
    "            value = value.cpu().view(-1).numpy()\n",
    "            train_stats.update(output, value, loss)\n",
    "\n",
    "    # validate\n",
    "    test_stats = evaluate_fit(net, test_gen, device, epoch % epochs_per_stats == 0)\n",
    "                \n",
    "    if test_stats is not None:            \n",
    "        print(\"Epoch:  \", epoch, \"\\nTrain:\\n\", train_stats, \"\\nTest:\\n\", test_stats)\n",
    "        plotter.add_values(epoch,\n",
    "                           loss_train=train_stats.loss, acc_train=train_stats.accuracy,\n",
    "                           loss_val=test_stats.loss, acc_val=test_stats.accuracy)\n",
    "        if epoch == 0:\n",
    "            win = viz.matplot(plotter.fig)\n",
    "        else:\n",
    "            viz.matplot(plotter.fig, win=win)\n",
    "        \n",
    "    torch.save({\n",
    "        'net_state_dict': net.state_dict(),\n",
    "        'optimizer_state_dict': optimizer.state_dict()},\n",
    "        WORKING_DIR + str(epoch) + '-' + str(batch_size) + '.pth')\n",
    "            \n",
    "print('Finished Training')"
   ]
  },
  {
   "cell_type": "code",
   "execution_count": null,
   "metadata": {},
   "outputs": [],
   "source": [
    "plotter.fig"
   ]
  },
  {
   "cell_type": "code",
   "execution_count": null,
   "metadata": {},
   "outputs": [],
   "source": []
  }
 ],
 "metadata": {
  "kernelspec": {
   "display_name": "Python 3",
   "language": "python",
   "name": "python3"
  },
  "language_info": {
   "codemirror_mode": {
    "name": "ipython",
    "version": 3
   },
   "file_extension": ".py",
   "mimetype": "text/x-python",
   "name": "python",
   "nbconvert_exporter": "python",
   "pygments_lexer": "ipython3",
   "version": "3.7.1"
  }
 },
 "nbformat": 4,
 "nbformat_minor": 1
}
