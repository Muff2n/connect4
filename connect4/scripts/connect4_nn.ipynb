{
 "cells": [
  {
   "cell_type": "code",
   "execution_count": 1,
   "metadata": {},
   "outputs": [],
   "source": [
    "%matplotlib inline\n",
    "\n",
    "import numpy as np\n",
    "import pickle\n",
    "import torch\n",
    "import torch.nn as nn\n",
    "import torch.optim as optim\n",
    "import torch.utils.data as data\n",
    "\n",
    "from sklearn.model_selection import train_test_split\n",
    "\n",
    "\n",
    "torch.backends.cudnn.deterministic = True\n",
    "torch.backends.cudnn.benchmark = False\n",
    "torch.manual_seed(999)\n",
    "np.random.seed(0)"
   ]
  },
  {
   "cell_type": "code",
   "execution_count": 2,
   "metadata": {},
   "outputs": [],
   "source": [
    "n_epocs = 10000\n",
    "epochs_per_stats = 1\n",
    "batch_size = 1\n",
    "test_size = 0.2\n",
    "learning_rate = 0.002 * (batch_size / 1024.0)\n",
    "momentum = 0.0\n",
    "\n",
    "WORKING_DIR = '/home/richard/Downloads/nn/PSU_back/'"
   ]
  },
  {
   "cell_type": "code",
   "execution_count": 3,
   "metadata": {},
   "outputs": [],
   "source": [
    "boards = torch.load('/home/richard/Downloads/connect4_boards.pth').numpy()\n",
    "values = torch.load('/home/richard/Downloads/connect4_values.pth').numpy()\n",
    "\n",
    "# Here we don't want to have the player to move channel\n",
    "boards = boards[:, 1:]\n",
    "\n",
    "board_train, board_test, value_train, value_test = train_test_split(boards, values, test_size=test_size, shuffle=True)"
   ]
  },
  {
   "cell_type": "code",
   "execution_count": 4,
   "metadata": {},
   "outputs": [],
   "source": [
    "from connect4.neural.nn_pytorch import Connect4Dataset\n",
    "\n",
    "train = Connect4Dataset(board_train, value_train)\n",
    "test = Connect4Dataset(board_test, value_test)\n",
    "\n",
    "train_gen = data.DataLoader(train, batch_size, shuffle=True)\n",
    "# test_gen = data.DataLoader(test, 4096, shuffle=False)\n",
    "test_gen = data.DataLoader(test, batch_size, shuffle=False)"
   ]
  },
  {
   "cell_type": "code",
   "execution_count": null,
   "metadata": {},
   "outputs": [
    {
     "data": {
      "text/plain": [
       "Sequential(\n",
       "  (0): Sequential(\n",
       "    (0): Conv2d(2, 32, kernel_size=(3, 3), stride=(1, 1), padding=(1, 1), bias=False)\n",
       "    (1): BatchNorm2d(32, eps=1e-05, momentum=0.1, affine=True, track_running_stats=True)\n",
       "    (2): LeakyReLU(negative_slope=0.01)\n",
       "  )\n",
       "  (1): Sequential(\n",
       "    (0): ResidualLayer(\n",
       "      (conv1): Conv2d(32, 32, kernel_size=(3, 3), stride=(1, 1), padding=(1, 1), bias=False)\n",
       "      (conv2): Conv2d(32, 32, kernel_size=(3, 3), stride=(1, 1), padding=(1, 1), bias=False)\n",
       "      (batch_norm1): BatchNorm2d(32, eps=1e-05, momentum=0.1, affine=True, track_running_stats=True)\n",
       "      (batch_norm2): BatchNorm2d(32, eps=1e-05, momentum=0.1, affine=True, track_running_stats=True)\n",
       "      (relu): LeakyReLU(negative_slope=0.01)\n",
       "    )\n",
       "    (1): ResidualLayer(\n",
       "      (conv1): Conv2d(32, 32, kernel_size=(3, 3), stride=(1, 1), padding=(1, 1), bias=False)\n",
       "      (conv2): Conv2d(32, 32, kernel_size=(3, 3), stride=(1, 1), padding=(1, 1), bias=False)\n",
       "      (batch_norm1): BatchNorm2d(32, eps=1e-05, momentum=0.1, affine=True, track_running_stats=True)\n",
       "      (batch_norm2): BatchNorm2d(32, eps=1e-05, momentum=0.1, affine=True, track_running_stats=True)\n",
       "      (relu): LeakyReLU(negative_slope=0.01)\n",
       "    )\n",
       "    (2): ResidualLayer(\n",
       "      (conv1): Conv2d(32, 32, kernel_size=(3, 3), stride=(1, 1), padding=(1, 1), bias=False)\n",
       "      (conv2): Conv2d(32, 32, kernel_size=(3, 3), stride=(1, 1), padding=(1, 1), bias=False)\n",
       "      (batch_norm1): BatchNorm2d(32, eps=1e-05, momentum=0.1, affine=True, track_running_stats=True)\n",
       "      (batch_norm2): BatchNorm2d(32, eps=1e-05, momentum=0.1, affine=True, track_running_stats=True)\n",
       "      (relu): LeakyReLU(negative_slope=0.01)\n",
       "    )\n",
       "  )\n",
       "  (2): ValueHead(\n",
       "    (conv1): Conv2d(32, 1, kernel_size=(1, 1), stride=(1, 1))\n",
       "    (batch_norm): BatchNorm2d(1, eps=1e-05, momentum=0.1, affine=True, track_running_stats=True)\n",
       "    (relu): LeakyReLU(negative_slope=0.01)\n",
       "    (fcN): Sequential(\n",
       "      (0): Linear(in_features=42, out_features=42, bias=True)\n",
       "      (1): Linear(in_features=42, out_features=42, bias=True)\n",
       "      (2): Linear(in_features=42, out_features=42, bias=True)\n",
       "      (3): Linear(in_features=42, out_features=42, bias=True)\n",
       "    )\n",
       "    (fc1): Linear(in_features=42, out_features=1, bias=True)\n",
       "    (tanh): Tanh()\n",
       "  )\n",
       ")"
      ]
     },
     "execution_count": 5,
     "metadata": {},
     "output_type": "execute_result"
    }
   ],
   "source": [
    "from connect4.neural.nn_pytorch import build_value_net\n",
    "\n",
    "net = build_value_net() #value_head_fc_layers=16)\n",
    "\n",
    "def init_normal(m):\n",
    "    if type(m) == nn.Linear:\n",
    "        nn.init.normal_(m.weight, std=0.0000001)\n",
    "    elif type(m) == nn.Conv2d:\n",
    "        nn.init.normal_(m.weight, std=0.0000001)\n",
    "    elif type(m) == nn.BatchNorm2d:\n",
    "        nn.init.normal_(m.weight, std=0.0000001)\n",
    "#         nn.init.constant_(m.bias, 0)\n",
    "\n",
    "# net.apply(init_normal)\n",
    "\n",
    "device = torch.device(\"cuda:0\" if torch.cuda.is_available() else \"cpu\")\n",
    "net.to(device)"
   ]
  },
  {
   "cell_type": "code",
   "execution_count": null,
   "metadata": {},
   "outputs": [],
   "source": [
    "criterion = nn.MSELoss()\n",
    "# criterion = nn.L1Loss()\n",
    "\n",
    "# optimizer = optim.SGD(net.parameters(), lr=learning_rate, momentum=momentum)\n",
    "optimizer = optim.Adam(net.parameters())"
   ]
  },
  {
   "cell_type": "code",
   "execution_count": null,
   "metadata": {},
   "outputs": [],
   "source": [
    "# option to load previous progress\n",
    "# file_path = WORKING_DIR + '../nn9.pth'\n",
    "file_path = None\n",
    "if file_path is not None:\n",
    "    checkpoint = torch.load()\n",
    "    net.load_state_dict(checkpoint['net_state_dict'])\n",
    "    optimizer.load_state_dict(checkpoint['optimizer_state_dict'])"
   ]
  },
  {
   "cell_type": "code",
   "execution_count": null,
   "metadata": {},
   "outputs": [
    {
     "name": "stdout",
     "output_type": "stream",
     "text": [
      "Initial Test Stats:\n",
      " Average loss:  0.24830  Accuracy:  0.09458  Smallest:  0.45195  Largest:  0.45346  Average:  0.45278\n",
      "Category, # Members, # Correct Predictions:  (0.0, 3300, 0)  (0.5, 1278, 1278)  (1.0, 8934, 0)\n"
     ]
    }
   ],
   "source": [
    "from connect4.neural.stats import Stats\n",
    "\n",
    "# Get an idea of how the initialisation is\n",
    "def evaluate_fit(net, test_gen, device, output_stats=False):\n",
    "    test_stats = Stats() if output_stats else None\n",
    "    with torch.set_grad_enabled(False):\n",
    "        net = net.eval()\n",
    "        for board, value in test_gen:\n",
    "            board, value = board.to(device), value.to(device)\n",
    "\n",
    "            output = net(board)\n",
    "            loss = criterion(output, value)\n",
    "\n",
    "            if output_stats:\n",
    "                output = output.cpu().numpy().flatten()\n",
    "                value = value.cpu().numpy().flatten()\n",
    "                test_stats.update(output, value, loss)\n",
    "    return test_stats\n",
    "\n",
    "test_stats = evaluate_fit(net, test_gen, device, True)\n",
    "print(\"Initial Test Stats:\\n\", test_stats)"
   ]
  },
  {
   "cell_type": "code",
   "execution_count": null,
   "metadata": {},
   "outputs": [
    {
     "name": "stderr",
     "output_type": "stream",
     "text": [
      "WARNING:root:Setting up a new session...\n"
     ]
    },
    {
     "name": "stdout",
     "output_type": "stream",
     "text": [
      "Epoch:   0 \n",
      "Train:\n",
      " Average loss:  0.09490  Accuracy:  0.72046  Smallest:  0.00005  Largest:  1.00000  Average:  0.70612\n",
      "Category, # Members, # Correct Predictions:  (0.0, 13335, 6986)  (0.5, 5171, 1950)  (1.0, 35539, 30001) \n",
      "Test:\n",
      " Average loss:  0.07779  Accuracy:  0.74260  Smallest:  0.00204  Largest:  0.99979  Average:  0.68071\n",
      "Category, # Members, # Correct Predictions:  (0.0, 3300, 1905)  (0.5, 1278, 675)  (1.0, 8934, 7454)\n"
     ]
    },
    {
     "data": {
      "image/png": "[encoded data removed]",
      "text/plain": [
       "<Figure size 1728x576 with 2 Axes>"
      ]
     },
     "metadata": {
      "needs_background": "light"
     },
     "output_type": "display_data"
    }
   ],
   "source": [
    "%%time\n",
    "\n",
    "from laplotter import LossAccPlotter\n",
    "from visdom import Visdom\n",
    "\n",
    "viz = Visdom()\n",
    "plotter = LossAccPlotter()\n",
    "\n",
    "for epoch in range(n_epocs):\n",
    "    \n",
    "    net = net.train()\n",
    "    train_stats = Stats()\n",
    "    \n",
    "    for board, value in train_gen:\n",
    "        board, value = board.to(device), value.to(device)\n",
    "        \n",
    "        # zero the parameter gradients\n",
    "        optimizer.zero_grad()\n",
    "\n",
    "        # forward + backward + optimize\n",
    "        output = net(board)\n",
    "        loss = criterion(output, value)\n",
    "        loss.backward()\n",
    "        optimizer.step()\n",
    "        \n",
    "        if epoch % epochs_per_stats == 0:\n",
    "            output = output.cpu().view(-1).detach().numpy()\n",
    "            value = value.cpu().view(-1).numpy()\n",
    "            train_stats.update(output, value, loss)\n",
    "\n",
    "    # validate\n",
    "    test_stats = evaluate_fit(net, test_gen, device, epoch % epochs_per_stats == 0)\n",
    "                \n",
    "    if test_stats is not None:            \n",
    "        print(\"Epoch:  \", epoch, \"\\nTrain:\\n\", train_stats, \"\\nTest:\\n\", test_stats)\n",
    "        plotter.add_values(epoch,\n",
    "                           loss_train=train_stats.loss, acc_train=train_stats.accuracy,\n",
    "                           loss_val=test_stats.loss, acc_val=test_stats.accuracy)\n",
    "        if epoch == 0:\n",
    "            win = viz.matplot(plotter.fig)\n",
    "        else:\n",
    "            viz.matplot(plotter.fig, win=win)\n",
    "        \n",
    "    torch.save({\n",
    "        'net_state_dict': net.state_dict(),\n",
    "        'optimizer_state_dict': optimizer.state_dict()},\n",
    "        WORKING_DIR + str(epoch) + '-' + str(batch_size) + '.pth')\n",
    "            \n",
    "print('Finished Training')"
   ]
  },
  {
   "cell_type": "code",
   "execution_count": null,
   "metadata": {},
   "outputs": [],
   "source": [
    "plotter.fig"
   ]
  },
  {
   "cell_type": "code",
   "execution_count": null,
   "metadata": {},
   "outputs": [],
   "source": []
  }
 ],
 "metadata": {
  "kernelspec": {
   "display_name": "Python 3",
   "language": "python",
   "name": "python3"
  },
  "language_info": {
   "codemirror_mode": {
    "name": "ipython",
    "version": 3
   },
   "file_extension": ".py",
   "mimetype": "text/x-python",
   "name": "python",
   "nbconvert_exporter": "python",
   "pygments_lexer": "ipython3",
   "version": "3.7.1"
  }
 },
 "nbformat": 4,
 "nbformat_minor": 1
}
